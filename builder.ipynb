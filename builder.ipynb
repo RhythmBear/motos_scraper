{
 "cells": [
  {
   "cell_type": "code",
   "execution_count": 1,
   "id": "3969a7aa-abd6-4011-b9b2-994da601c17f",
   "metadata": {},
   "outputs": [],
   "source": [
    "from bot import MotosBot\n",
    "import time\n",
    "from selenium.webdriver.common.by import By\n",
    "\n",
    "\n",
    "self = MotosBot()\n",
    "\n"
   ]
  },
  {
   "cell_type": "code",
   "execution_count": 4,
   "id": "7d2ea35f-a80c-4ea2-8b81-6913c4518eed",
   "metadata": {},
   "outputs": [],
   "source": [
    "brand = 'toyota'\n",
    "model = 'corolla'\n",
    "\n",
    "self.browser.get(f\"https://uae.yallamotor.com/new-cars/{brand}/{model}\")\n",
    "\n"
   ]
  },
  {
   "cell_type": "code",
   "execution_count": null,
   "id": "a70d3ad5-2744-4ecd-9eee-eddd61772d4d",
   "metadata": {},
   "outputs": [],
   "source": [
    "title = self.browser.find_element(By.XPATH, \"//h1\").text\n",
    "print(title)\n",
    "assert brand.title() in title\n",
    "assert model.title() in title \n",
    "car_table = self.browser.find_element(By.XPATH, \"//table[@class='table m24t usedcarsTable versions font14']\")\n",
    "\n",
    "car_table_rows = car_table.find_elements(By.XPATH, \".//tr\")\n",
    "print(f\"Found {len(car_table_rows) - 1} new cars for {brand} - {model}\")\n",
    "\n",
    "car_body_type = self.browser.find_element(By.XPATH, \"//div[@class='col is-4 p16']/div/span[contains(text(), 'Body Style')]//parent::div//following-sibling::p\").text\n",
    "print(car_body_type)\n",
    "car_results = []\n",
    "for row in car_table_rows:\n",
    "    new_car = {}\n",
    "    try:\n",
    "        car_summary = row.find_element(By.XPATH, \".//td/div[@class='m8t font-n']\")\n",
    "    except:\n",
    "        print(row.text)\n",
    "    else:\n",
    "        car_sum = car_summary.text.split(\", \")\n",
    "    \n",
    "        car_name = row.find_element(By.XPATH, \".//td/div/a\").text\n",
    "        car_link = row.find_element(By.XPATH, \".//td/div/a\").get_attribute(\"href\")\n",
    "        car_price = row.find_element(By.XPATH, \".//td/div[@class='font-b']\").text\n",
    "    \n",
    "        year = car_sum[0]\n",
    "        fuel_type = car_sum[1]\n",
    "        transmission = car_sum[2]\n",
    "        print(year, fuel_type, transmission, car_link, car_name, car_price)\n",
    "        \n",
    "        # Create New Car Entry\n",
    "        new_car['link'] = car_link\n",
    "        new_car['year'] = year\n",
    "        new_car['make'] = brand \n",
    "        new_car['model'] = car_name\n",
    "        new_car['variant'] = car_name\n",
    "        new_car['body_type'] = car_body_type\n",
    "        new_car['transmission'] = transmission\n",
    "        new_car['fuel_type'] = fuel_type\n",
    "        new_car['price'] = car_price\n",
    "\n",
    "        car_results.append(new_car)\n",
    "\n",
    "print(car_results)\n",
    "print(\"I got to the end\")\n"
   ]
  },
  {
   "cell_type": "code",
   "execution_count": 5,
   "id": "bfefd0b9-094b-4b62-aa16-98aa2bf49b3e",
   "metadata": {},
   "outputs": [
    {
     "name": "stdout",
     "output_type": "stream",
     "text": [
      "VERSIONS PRICE & RATING ACTIONS\n",
      "2024 Petrol CVT https://uae.yallamotor.com/new-cars/toyota/corolla/1-6l-gr Toyota Corolla 2024 1.6L GR TBD\n",
      "Similar Cars:\n",
      "Compare it now!\n",
      "2024 Petrol CVT https://uae.yallamotor.com/new-cars/toyota/corolla/1-2l Toyota Corolla 2024 1.2L TBD\n",
      "2024 Petrol CVT https://uae.yallamotor.com/new-cars/toyota/corolla/1-6l-xli Toyota Corolla 2024 1.6L XLI AED 74,900\n",
      "Similar Cars:\n",
      "Compare it now!\n",
      "2024 Petrol CVT https://uae.yallamotor.com/new-cars/toyota/corolla/1-6l-gli Toyota Corolla 2024 1.6L GLI AED 81,900\n",
      "Similar Cars:\n",
      "Compare it now!\n",
      "2024 Hybrid CVT https://uae.yallamotor.com/new-cars/toyota/corolla/1-8l-xli-hybrid Toyota Corolla 2024 1.8L XLI Hybrid AED 87,900\n",
      "Similar Cars:\n",
      "Compare it now!\n"
     ]
    },
    {
     "data": {
      "text/plain": [
       "[{'link': 'https://uae.yallamotor.com/new-cars/toyota/corolla/1-6l-gr',\n",
       "  'year': '2024',\n",
       "  'make': 'toyota',\n",
       "  'model': 'Toyota Corolla 2024 1.6L GR',\n",
       "  'variant': 'Toyota Corolla 2024 1.6L GR',\n",
       "  'body_type': 'Sedan',\n",
       "  'transmission': 'CVT',\n",
       "  'fuel_type': 'Petrol',\n",
       "  'price': 'TBD'},\n",
       " {'link': 'https://uae.yallamotor.com/new-cars/toyota/corolla/1-2l',\n",
       "  'year': '2024',\n",
       "  'make': 'toyota',\n",
       "  'model': 'Toyota Corolla 2024 1.2L',\n",
       "  'variant': 'Toyota Corolla 2024 1.2L',\n",
       "  'body_type': 'Sedan',\n",
       "  'transmission': 'CVT',\n",
       "  'fuel_type': 'Petrol',\n",
       "  'price': 'TBD'},\n",
       " {'link': 'https://uae.yallamotor.com/new-cars/toyota/corolla/1-6l-xli',\n",
       "  'year': '2024',\n",
       "  'make': 'toyota',\n",
       "  'model': 'Toyota Corolla 2024 1.6L XLI',\n",
       "  'variant': 'Toyota Corolla 2024 1.6L XLI',\n",
       "  'body_type': 'Sedan',\n",
       "  'transmission': 'CVT',\n",
       "  'fuel_type': 'Petrol',\n",
       "  'price': 'AED 74,900'},\n",
       " {'link': 'https://uae.yallamotor.com/new-cars/toyota/corolla/1-6l-gli',\n",
       "  'year': '2024',\n",
       "  'make': 'toyota',\n",
       "  'model': 'Toyota Corolla 2024 1.6L GLI',\n",
       "  'variant': 'Toyota Corolla 2024 1.6L GLI',\n",
       "  'body_type': 'Sedan',\n",
       "  'transmission': 'CVT',\n",
       "  'fuel_type': 'Petrol',\n",
       "  'price': 'AED 81,900'},\n",
       " {'link': 'https://uae.yallamotor.com/new-cars/toyota/corolla/1-8l-xli-hybrid',\n",
       "  'year': '2024',\n",
       "  'make': 'toyota',\n",
       "  'model': 'Toyota Corolla 2024 1.8L XLI Hybrid',\n",
       "  'variant': 'Toyota Corolla 2024 1.8L XLI Hybrid',\n",
       "  'body_type': 'Sedan',\n",
       "  'transmission': 'CVT',\n",
       "  'fuel_type': 'Hybrid',\n",
       "  'price': 'AED 87,900'}]"
      ]
     },
     "execution_count": 5,
     "metadata": {},
     "output_type": "execute_result"
    }
   ],
   "source": [
    "self.get_new_cars_for_brand_model('toyota', 'corolla')"
   ]
  },
  {
   "cell_type": "code",
   "execution_count": null,
   "id": "255f59eb-ad2a-4356-a5db-aeaf576fe164",
   "metadata": {},
   "outputs": [],
   "source": []
  }
 ],
 "metadata": {
  "kernelspec": {
   "display_name": "Python 3 (ipykernel)",
   "language": "python",
   "name": "python3"
  },
  "language_info": {
   "codemirror_mode": {
    "name": "ipython",
    "version": 3
   },
   "file_extension": ".py",
   "mimetype": "text/x-python",
   "name": "python",
   "nbconvert_exporter": "python",
   "pygments_lexer": "ipython3",
   "version": "3.10.12"
  }
 },
 "nbformat": 4,
 "nbformat_minor": 5
}
